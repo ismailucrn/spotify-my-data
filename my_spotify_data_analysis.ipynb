{
 "cells": [
  {
   "cell_type": "code",
   "execution_count": 1,
   "metadata": {},
   "outputs": [],
   "source": [
    "import pandas as pd\n",
    "import numpy as np\n",
    "import matplotlib.pyplot as plt\n",
    "import seaborn as sns\n",
    "import spotipy\n",
    "import json\n",
    "import warnings\n",
    "warnings.filterwarnings('ignore')"
   ]
  },
  {
   "attachments": {},
   "cell_type": "markdown",
   "metadata": {},
   "source": [
    "# Analysis of my Playlists"
   ]
  },
  {
   "cell_type": "code",
   "execution_count": 2,
   "metadata": {},
   "outputs": [],
   "source": [
    "with open(\"my_spotify_data\\Playlist1.json\") as json_data:\n",
    "    playlist = json.load(json_data)"
   ]
  },
  {
   "cell_type": "code",
   "execution_count": 3,
   "metadata": {},
   "outputs": [
    {
     "data": {
      "text/plain": [
       "dict_keys(['playlists'])"
      ]
     },
     "execution_count": 3,
     "metadata": {},
     "output_type": "execute_result"
    }
   ],
   "source": [
    "playlist.keys()"
   ]
  },
  {
   "cell_type": "code",
   "execution_count": 4,
   "metadata": {},
   "outputs": [
    {
     "data": {
      "text/html": [
       "<div>\n",
       "<style scoped>\n",
       "    .dataframe tbody tr th:only-of-type {\n",
       "        vertical-align: middle;\n",
       "    }\n",
       "\n",
       "    .dataframe tbody tr th {\n",
       "        vertical-align: top;\n",
       "    }\n",
       "\n",
       "    .dataframe thead th {\n",
       "        text-align: right;\n",
       "    }\n",
       "</style>\n",
       "<table border=\"1\" class=\"dataframe\">\n",
       "  <thead>\n",
       "    <tr style=\"text-align: right;\">\n",
       "      <th></th>\n",
       "      <th>name</th>\n",
       "      <th>lastModifiedDate</th>\n",
       "      <th>items</th>\n",
       "      <th>description</th>\n",
       "      <th>numberOfFollowers</th>\n",
       "    </tr>\n",
       "  </thead>\n",
       "  <tbody>\n",
       "    <tr>\n",
       "      <th>0</th>\n",
       "      <td>Latte's Mix</td>\n",
       "      <td>2023-02-09</td>\n",
       "      <td>[{'track': {'trackName': 'All Gone (No Escape)...</td>\n",
       "      <td>çöplüğümde her türden müzik bulunur.</td>\n",
       "      <td>5</td>\n",
       "    </tr>\n",
       "    <tr>\n",
       "      <th>1</th>\n",
       "      <td>Deniz</td>\n",
       "      <td>2023-01-31</td>\n",
       "      <td>[{'track': {'trackName': 'Estampes, L. 100: I....</td>\n",
       "      <td>hüzün ve düşünce</td>\n",
       "      <td>0</td>\n",
       "    </tr>\n",
       "    <tr>\n",
       "      <th>2</th>\n",
       "      <td>gece yarısı tavan manzarası</td>\n",
       "      <td>2022-12-27</td>\n",
       "      <td>[{'track': {'trackName': 'No Surprises', 'arti...</td>\n",
       "      <td>None</td>\n",
       "      <td>1</td>\n",
       "    </tr>\n",
       "    <tr>\n",
       "      <th>3</th>\n",
       "      <td>Dinlenmiş podcastler</td>\n",
       "      <td>2023-02-09</td>\n",
       "      <td>[{'track': None, 'episode': {'episodeName': 'A...</td>\n",
       "      <td>ne dinlediğimi hatırlamak, ara ara yeniden uğr...</td>\n",
       "      <td>0</td>\n",
       "    </tr>\n",
       "    <tr>\n",
       "      <th>4</th>\n",
       "      <td>.?</td>\n",
       "      <td>2023-01-03</td>\n",
       "      <td>[{'track': {'trackName': 'True Blue', 'artistN...</td>\n",
       "      <td>None</td>\n",
       "      <td>0</td>\n",
       "    </tr>\n",
       "  </tbody>\n",
       "</table>\n",
       "</div>"
      ],
      "text/plain": [
       "                          name lastModifiedDate  \\\n",
       "0                  Latte's Mix       2023-02-09   \n",
       "1                        Deniz       2023-01-31   \n",
       "2  gece yarısı tavan manzarası       2022-12-27   \n",
       "3         Dinlenmiş podcastler       2023-02-09   \n",
       "4                           .?       2023-01-03   \n",
       "\n",
       "                                               items  \\\n",
       "0  [{'track': {'trackName': 'All Gone (No Escape)...   \n",
       "1  [{'track': {'trackName': 'Estampes, L. 100: I....   \n",
       "2  [{'track': {'trackName': 'No Surprises', 'arti...   \n",
       "3  [{'track': None, 'episode': {'episodeName': 'A...   \n",
       "4  [{'track': {'trackName': 'True Blue', 'artistN...   \n",
       "\n",
       "                                         description  numberOfFollowers  \n",
       "0               çöplüğümde her türden müzik bulunur.                  5  \n",
       "1                                   hüzün ve düşünce                  0  \n",
       "2                                               None                  1  \n",
       "3  ne dinlediğimi hatırlamak, ara ara yeniden uğr...                  0  \n",
       "4                                               None                  0  "
      ]
     },
     "execution_count": 4,
     "metadata": {},
     "output_type": "execute_result"
    }
   ],
   "source": [
    "playlist_df = pd.DataFrame(playlist['playlists'])\n",
    "playlist_df.head()"
   ]
  },
  {
   "cell_type": "code",
   "execution_count": 5,
   "metadata": {},
   "outputs": [
    {
     "data": {
      "text/plain": [
       "{'track': {'trackName': 'All Gone (No Escape)',\n",
       "  'artistName': 'Gustavo Santaolalla',\n",
       "  'albumName': 'The Last of Us',\n",
       "  'trackUri': 'spotify:track:6zezOLouSWKEfMizbzcsad'},\n",
       " 'episode': None,\n",
       " 'localTrack': None,\n",
       " 'addedDate': '2017-11-26'}"
      ]
     },
     "execution_count": 5,
     "metadata": {},
     "output_type": "execute_result"
    }
   ],
   "source": [
    "playlist_df[\"items\"][0][0]"
   ]
  },
  {
   "cell_type": "code",
   "execution_count": 6,
   "metadata": {},
   "outputs": [
    {
     "name": "stdout",
     "output_type": "stream",
     "text": [
      "Number of songs in Latte's Mix: 2501\n",
      "Number of songs in Deniz: 46\n",
      "Number of songs in gece yarısı tavan manzarası: 32\n",
      "Number of songs in Dinlenmiş podcastler: 21\n",
      "Number of songs in .?: 3\n",
      "Number of songs in Villian : 6\n",
      "Number of songs in neon city lights: 21\n",
      "Number of songs in YERIMDE DURAMIYORUM: 5\n",
      "Number of songs in bi ayrı: 51\n",
      "Number of songs in hoş klasik: 56\n",
      "Number of songs in baassBBWAAAAAAAAAAASS: 39\n",
      "Number of songs in my wholesome romance: 10\n",
      "Number of songs in Tatlı: 20\n",
      "Number of songs in irmik tatlısı: 54\n",
      "Number of songs in Jazz Jazz Jazz!: 46\n",
      "Number of songs in Sad Lisa: 11\n",
      "Number of songs in Ktü'den Dört Atlı Geçti: 14\n",
      "Number of songs in Buruk: 6\n",
      "Number of songs in Instrumental: 399\n",
      "Number of songs in nostalji: 18\n",
      "Number of songs in Serotonin: 18\n",
      "Number of songs in Chillin': 11\n",
      "Number of songs in huzur ve sükunet: 63\n",
      "Number of songs in Sadece Klasik: 182\n",
      "Number of songs in Sakin: 167\n"
     ]
    }
   ],
   "source": [
    "lenlist = []\n",
    "for i in range(len(playlist_df[\"name\"])):\n",
    "    print(f\"Number of songs in {playlist_df['name'][i]}: {len(playlist_df['items'][i])}\")\n",
    "    lenlist.append(len(playlist_df['items'][i]))\n"
   ]
  },
  {
   "cell_type": "code",
   "execution_count": 7,
   "metadata": {},
   "outputs": [
    {
     "data": {
      "text/plain": [
       "{\"Latte's Mix\": 2501,\n",
       " 'Instrumental': 399,\n",
       " 'Sadece Klasik': 182,\n",
       " 'Sakin': 167,\n",
       " 'huzur ve sükunet': 63,\n",
       " 'hoş klasik': 56,\n",
       " 'irmik tatlısı': 54,\n",
       " 'bi ayrı': 51,\n",
       " 'Deniz': 46,\n",
       " 'Jazz Jazz Jazz!': 46,\n",
       " 'baassBBWAAAAAAAAAAASS': 39,\n",
       " 'gece yarısı tavan manzarası': 32,\n",
       " 'Dinlenmiş podcastler': 21,\n",
       " 'neon city lights': 21,\n",
       " 'Tatlı': 20,\n",
       " 'nostalji': 18,\n",
       " 'Serotonin': 18,\n",
       " \"Ktü'den Dört Atlı Geçti\": 14,\n",
       " 'Sad Lisa': 11,\n",
       " \"Chillin'\": 11,\n",
       " 'my wholesome romance': 10,\n",
       " 'Villian ': 6,\n",
       " 'Buruk': 6,\n",
       " 'YERIMDE DURAMIYORUM': 5,\n",
       " '.?': 3}"
      ]
     },
     "execution_count": 7,
     "metadata": {},
     "output_type": "execute_result"
    }
   ],
   "source": [
    "playlist_dict = {}\n",
    "for i in range(len(playlist_df[\"name\"])):\n",
    "    playlist_dict[playlist_df[\"name\"][i]] = len(playlist_df[\"items\"][i])\n",
    "\n",
    "playlist_dict = {k: v for k, v in sorted(playlist_dict.items(), key=lambda item: item[1], reverse=True)}\n",
    "playlist_dict"
   ]
  },
  {
   "cell_type": "code",
   "execution_count": 8,
   "metadata": {},
   "outputs": [
    {
     "data": {
      "image/png": "[encoded data removed]",
      "text/plain": [
       "<Figure size 1080x540 with 1 Axes>"
      ]
     },
     "metadata": {
      "needs_background": "light"
     },
     "output_type": "display_data"
    }
   ],
   "source": [
    "plt.figure(figsize=(15, 7.5))\n",
    "sns.barplot(x=list(playlist_dict.keys()), y=list(playlist_dict.values()))\n",
    "plt.title(\"Number of songs in each playlist\")\n",
    "plt.xlabel(\"Playlist\")\n",
    "plt.ylabel(\"Number of songs\")\n",
    "plt.xticks(rotation=90)\n",
    "plt.yticks(np.arange(0, 2500, 250))\n",
    "plt.show()"
   ]
  },
  {
   "cell_type": "code",
   "execution_count": 9,
   "metadata": {},
   "outputs": [
    {
     "data": {
      "text/plain": [
       "'Gustavo Santaolalla'"
      ]
     },
     "execution_count": 9,
     "metadata": {},
     "output_type": "execute_result"
    }
   ],
   "source": [
    "playlist_df[\"items\"][0][0][\"track\"][\"artistName\"]"
   ]
  },
  {
   "cell_type": "code",
   "execution_count": 10,
   "metadata": {},
   "outputs": [],
   "source": [
    "# artist_list = []\n",
    "# for i in range(len(playlist_df[\"name\"])):\n",
    "#     for j in range(len(playlist_df[\"items\"][i])):\n",
    "#         print(playlist_df[\"items\"][i][j][\"track\"][\"artistName\"])"
   ]
  },
  {
   "cell_type": "code",
   "execution_count": 11,
   "metadata": {},
   "outputs": [],
   "source": [
    "#get a error but i didnt solve it yet\n",
    "\n",
    "# artist_dict = {}\n",
    "# for i in range(len(playlist_df[\"name\"])):\n",
    "#     for j in range(len(playlist_df[\"items\"][i])):\n",
    "#         artist = playlist_df[\"items\"][i][j][\"track\"][\"artistName\"]\n",
    "#         if artist in artist_dict:\n",
    "#             artist_dict[artist] += 1\n",
    "#         else:\n",
    "#             artist_dict[artist] = 1\n",
    "\n",
    "# artist_dict = {k: v for k, v in sorted(artist_dict.items(), key=lambda item: item[1], reverse=True)}\n",
    "# artist_dict"
   ]
  },
  {
   "cell_type": "code",
   "execution_count": 12,
   "metadata": {},
   "outputs": [
    {
     "data": {
      "text/plain": [
       "'2017-11-26'"
      ]
     },
     "execution_count": 12,
     "metadata": {},
     "output_type": "execute_result"
    }
   ],
   "source": [
    "playlist_df[\"items\"][0][0][\"addedDate\"]"
   ]
  },
  {
   "cell_type": "code",
   "execution_count": 13,
   "metadata": {},
   "outputs": [
    {
     "data": {
      "text/plain": [
       "{'2021': 1290,\n",
       " '2022': 990,\n",
       " '2019': 481,\n",
       " '2020': 385,\n",
       " '2018': 334,\n",
       " '2017': 252,\n",
       " '2023': 68}"
      ]
     },
     "execution_count": 13,
     "metadata": {},
     "output_type": "execute_result"
    }
   ],
   "source": [
    "dateList = []\n",
    "for i in range(len(playlist_df[\"name\"])):\n",
    "    for j in range(len(playlist_df[\"items\"][i])):\n",
    "        dateList.append(playlist_df[\"items\"][i][j][\"addedDate\"][0:4])\n",
    "dateList\n",
    "\n",
    "\n",
    "dateDict = {}\n",
    "for i in range(len(dateList)):\n",
    "    dateDict[dateList[i]] = dateList.count(dateList[i])\n",
    "\n",
    "dateDict = {k: v for k, v in sorted(dateDict.items(), key=lambda item: item[1], reverse=True)}\n",
    "dateDict\n"
   ]
  },
  {
   "cell_type": "code",
   "execution_count": 14,
   "metadata": {},
   "outputs": [
    {
     "data": {
      "image/png": "[encoded data removed]",
      "text/plain": [
       "<Figure size 1080x540 with 1 Axes>"
      ]
     },
     "metadata": {
      "needs_background": "light"
     },
     "output_type": "display_data"
    }
   ],
   "source": [
    "plt.figure(figsize=(15, 7.5))\n",
    "sns.barplot(x=list(dateDict.keys()), y=list(dateDict.values()))\n",
    "plt.title(\"Number of songs added in each year\")\n",
    "plt.xlabel(\"Year\")\n",
    "plt.ylabel(\"Number of songs\")\n",
    "plt.show()"
   ]
  },
  {
   "attachments": {},
   "cell_type": "markdown",
   "metadata": {},
   "source": [
    "# Analysis of my Streaming History"
   ]
  },
  {
   "cell_type": "code",
   "execution_count": 15,
   "metadata": {},
   "outputs": [],
   "source": [
    "\n",
    "\n",
    "streaminghistory = []\n",
    "for i in range(0, 4):\n",
    "    with open(\"my_spotify_data\\StreamingHistory\" + str(i) + \".json\") as json_data:\n",
    "        streaminghistory.append(json.load(json_data))"
   ]
  },
  {
   "cell_type": "code",
   "execution_count": 16,
   "metadata": {},
   "outputs": [],
   "source": [
    "streaminghistory = [item for sublist in streaminghistory for item in sublist]"
   ]
  },
  {
   "cell_type": "code",
   "execution_count": 17,
   "metadata": {},
   "outputs": [
    {
     "name": "stdout",
     "output_type": "stream",
     "text": [
      "(33525, 4)\n"
     ]
    },
    {
     "data": {
      "text/html": [
       "<div>\n",
       "<style scoped>\n",
       "    .dataframe tbody tr th:only-of-type {\n",
       "        vertical-align: middle;\n",
       "    }\n",
       "\n",
       "    .dataframe tbody tr th {\n",
       "        vertical-align: top;\n",
       "    }\n",
       "\n",
       "    .dataframe thead th {\n",
       "        text-align: right;\n",
       "    }\n",
       "</style>\n",
       "<table border=\"1\" class=\"dataframe\">\n",
       "  <thead>\n",
       "    <tr style=\"text-align: right;\">\n",
       "      <th></th>\n",
       "      <th>endTime</th>\n",
       "      <th>artistName</th>\n",
       "      <th>trackName</th>\n",
       "      <th>msPlayed</th>\n",
       "    </tr>\n",
       "  </thead>\n",
       "  <tbody>\n",
       "    <tr>\n",
       "      <th>0</th>\n",
       "      <td>2022-02-06 18:23</td>\n",
       "      <td>Mitski</td>\n",
       "      <td>First Love/Late Spring</td>\n",
       "      <td>248221</td>\n",
       "    </tr>\n",
       "    <tr>\n",
       "      <th>1</th>\n",
       "      <td>2022-02-07 16:50</td>\n",
       "      <td>C418</td>\n",
       "      <td>Sweden</td>\n",
       "      <td>64947</td>\n",
       "    </tr>\n",
       "    <tr>\n",
       "      <th>2</th>\n",
       "      <td>2022-02-08 14:37</td>\n",
       "      <td>League of Legends</td>\n",
       "      <td>Gwen, the Hallowed Seamstress</td>\n",
       "      <td>5780</td>\n",
       "    </tr>\n",
       "    <tr>\n",
       "      <th>3</th>\n",
       "      <td>2022-02-09 00:15</td>\n",
       "      <td>Critical Role</td>\n",
       "      <td>C3E1 The Draw of Destiny</td>\n",
       "      <td>36548</td>\n",
       "    </tr>\n",
       "    <tr>\n",
       "      <th>4</th>\n",
       "      <td>2022-02-09 09:13</td>\n",
       "      <td>League of Legends</td>\n",
       "      <td>Gwen, the Hallowed Seamstress</td>\n",
       "      <td>880</td>\n",
       "    </tr>\n",
       "  </tbody>\n",
       "</table>\n",
       "</div>"
      ],
      "text/plain": [
       "            endTime         artistName                      trackName  \\\n",
       "0  2022-02-06 18:23             Mitski         First Love/Late Spring   \n",
       "1  2022-02-07 16:50               C418                         Sweden   \n",
       "2  2022-02-08 14:37  League of Legends  Gwen, the Hallowed Seamstress   \n",
       "3  2022-02-09 00:15      Critical Role       C3E1 The Draw of Destiny   \n",
       "4  2022-02-09 09:13  League of Legends  Gwen, the Hallowed Seamstress   \n",
       "\n",
       "   msPlayed  \n",
       "0    248221  \n",
       "1     64947  \n",
       "2      5780  \n",
       "3     36548  \n",
       "4       880  "
      ]
     },
     "execution_count": 17,
     "metadata": {},
     "output_type": "execute_result"
    }
   ],
   "source": [
    "pd_sthistory = pd.DataFrame(streaminghistory)\n",
    "print(pd_sthistory.shape)\n",
    "pd_sthistory.head()"
   ]
  },
  {
   "cell_type": "code",
   "execution_count": 18,
   "metadata": {},
   "outputs": [
    {
     "data": {
      "text/plain": [
       "endTime       2023-01-22 13:45\n",
       "artistName              Beirut\n",
       "trackName         Elephant Gun\n",
       "msPlayed                697999\n",
       "Name: 32373, dtype: object"
      ]
     },
     "execution_count": 18,
     "metadata": {},
     "output_type": "execute_result"
    }
   ],
   "source": [
    "ordered_time = pd_sthistory.sort_values(by=['msPlayed'], ascending=False)\n",
    "ordered_time.iloc[50]"
   ]
  },
  {
   "cell_type": "code",
   "execution_count": 19,
   "metadata": {},
   "outputs": [],
   "source": [
    "msplayed = pd_sthistory.groupby([\"trackName\",\"artistName\"],as_index=False)[\"msPlayed\"].sum()\n",
    "msplayed = msplayed.sort_values(by=['msPlayed'], ascending=False)"
   ]
  },
  {
   "cell_type": "code",
   "execution_count": 20,
   "metadata": {},
   "outputs": [
    {
     "data": {
      "text/html": [
       "<div>\n",
       "<style scoped>\n",
       "    .dataframe tbody tr th:only-of-type {\n",
       "        vertical-align: middle;\n",
       "    }\n",
       "\n",
       "    .dataframe tbody tr th {\n",
       "        vertical-align: top;\n",
       "    }\n",
       "\n",
       "    .dataframe thead th {\n",
       "        text-align: right;\n",
       "    }\n",
       "</style>\n",
       "<table border=\"1\" class=\"dataframe\">\n",
       "  <thead>\n",
       "    <tr style=\"text-align: right;\">\n",
       "      <th></th>\n",
       "      <th>trackName</th>\n",
       "      <th>artistName</th>\n",
       "      <th>minPlayed</th>\n",
       "      <th>song_auth</th>\n",
       "    </tr>\n",
       "  </thead>\n",
       "  <tbody>\n",
       "    <tr>\n",
       "      <th>157</th>\n",
       "      <td>Adamın Dibi -</td>\n",
       "      <td>mor ve ötesi</td>\n",
       "      <td>193.29</td>\n",
       "      <td>Adamın Dibi - mor ve ötesi</td>\n",
       "    </tr>\n",
       "    <tr>\n",
       "      <th>4585</th>\n",
       "      <td>Youth -</td>\n",
       "      <td>Glass Animals</td>\n",
       "      <td>145.78</td>\n",
       "      <td>Youth - Glass Animals</td>\n",
       "    </tr>\n",
       "    <tr>\n",
       "      <th>4050</th>\n",
       "      <td>There Is a Light That Never Goes Out - 2011 Re...</td>\n",
       "      <td>The Smiths</td>\n",
       "      <td>143.08</td>\n",
       "      <td>There Is a Light That Never Goes Out - 2011 Re...</td>\n",
       "    </tr>\n",
       "    <tr>\n",
       "      <th>4579</th>\n",
       "      <td>Young and Restless -</td>\n",
       "      <td>SIAMES</td>\n",
       "      <td>140.71</td>\n",
       "      <td>Young and Restless - SIAMES</td>\n",
       "    </tr>\n",
       "    <tr>\n",
       "      <th>236</th>\n",
       "      <td>Always The Same -</td>\n",
       "      <td>SIAMES</td>\n",
       "      <td>132.73</td>\n",
       "      <td>Always The Same - SIAMES</td>\n",
       "    </tr>\n",
       "    <tr>\n",
       "      <th>4176</th>\n",
       "      <td>True Blue -</td>\n",
       "      <td>Widowspeak</td>\n",
       "      <td>128.91</td>\n",
       "      <td>True Blue - Widowspeak</td>\n",
       "    </tr>\n",
       "    <tr>\n",
       "      <th>268</th>\n",
       "      <td>Animals -</td>\n",
       "      <td>Maroon 5</td>\n",
       "      <td>127.95</td>\n",
       "      <td>Animals - Maroon 5</td>\n",
       "    </tr>\n",
       "    <tr>\n",
       "      <th>1809</th>\n",
       "      <td>I Ain't Worried -</td>\n",
       "      <td>OneRepublic</td>\n",
       "      <td>125.73</td>\n",
       "      <td>I Ain't Worried - OneRepublic</td>\n",
       "    </tr>\n",
       "    <tr>\n",
       "      <th>2090</th>\n",
       "      <td>KICK BACK -</td>\n",
       "      <td>Kenshi Yonezu</td>\n",
       "      <td>122.05</td>\n",
       "      <td>KICK BACK - Kenshi Yonezu</td>\n",
       "    </tr>\n",
       "    <tr>\n",
       "      <th>2839</th>\n",
       "      <td>Olsun -</td>\n",
       "      <td>Pilli Bebek</td>\n",
       "      <td>119.97</td>\n",
       "      <td>Olsun - Pilli Bebek</td>\n",
       "    </tr>\n",
       "    <tr>\n",
       "      <th>2526</th>\n",
       "      <td>Merhabalar - Akustik -</td>\n",
       "      <td>Emre Fel</td>\n",
       "      <td>119.44</td>\n",
       "      <td>Merhabalar - Akustik - Emre Fel</td>\n",
       "    </tr>\n",
       "    <tr>\n",
       "      <th>2088</th>\n",
       "      <td>Just the Two of Us (feat. Bill Withers) -</td>\n",
       "      <td>Grover Washington, Jr.</td>\n",
       "      <td>118.52</td>\n",
       "      <td>Just the Two of Us (feat. Bill Withers) - Grov...</td>\n",
       "    </tr>\n",
       "    <tr>\n",
       "      <th>1156</th>\n",
       "      <td>Elephant Gun -</td>\n",
       "      <td>Beirut</td>\n",
       "      <td>116.55</td>\n",
       "      <td>Elephant Gun - Beirut</td>\n",
       "    </tr>\n",
       "    <tr>\n",
       "      <th>1859</th>\n",
       "      <td>I Really Want to Stay at Your House -</td>\n",
       "      <td>Rosa Walton</td>\n",
       "      <td>115.04</td>\n",
       "      <td>I Really Want to Stay at Your House - Rosa Walton</td>\n",
       "    </tr>\n",
       "    <tr>\n",
       "      <th>3108</th>\n",
       "      <td>Re -</td>\n",
       "      <td>mor ve ötesi</td>\n",
       "      <td>114.53</td>\n",
       "      <td>Re - mor ve ötesi</td>\n",
       "    </tr>\n",
       "    <tr>\n",
       "      <th>4591</th>\n",
       "      <td>Yürek -</td>\n",
       "      <td>Duman</td>\n",
       "      <td>112.72</td>\n",
       "      <td>Yürek - Duman</td>\n",
       "    </tr>\n",
       "    <tr>\n",
       "      <th>1128</th>\n",
       "      <td>Dünyaya Bedel -</td>\n",
       "      <td>mor ve ötesi</td>\n",
       "      <td>112.08</td>\n",
       "      <td>Dünyaya Bedel - mor ve ötesi</td>\n",
       "    </tr>\n",
       "    <tr>\n",
       "      <th>1784</th>\n",
       "      <td>How to Focus to Change Your Brain -</td>\n",
       "      <td>Huberman Lab</td>\n",
       "      <td>111.76</td>\n",
       "      <td>How to Focus to Change Your Brain - Huberman Lab</td>\n",
       "    </tr>\n",
       "    <tr>\n",
       "      <th>1321</th>\n",
       "      <td>FightSong -</td>\n",
       "      <td>Eve</td>\n",
       "      <td>111.05</td>\n",
       "      <td>FightSong - Eve</td>\n",
       "    </tr>\n",
       "    <tr>\n",
       "      <th>1120</th>\n",
       "      <td>Döndüm Durdum -</td>\n",
       "      <td>Anıl Piyancı</td>\n",
       "      <td>108.18</td>\n",
       "      <td>Döndüm Durdum - Anıl Piyancı</td>\n",
       "    </tr>\n",
       "  </tbody>\n",
       "</table>\n",
       "</div>"
      ],
      "text/plain": [
       "                                              trackName  \\\n",
       "157                                      Adamın Dibi -    \n",
       "4585                                           Youth -    \n",
       "4050  There Is a Light That Never Goes Out - 2011 Re...   \n",
       "4579                              Young and Restless -    \n",
       "236                                  Always The Same -    \n",
       "4176                                       True Blue -    \n",
       "268                                          Animals -    \n",
       "1809                                 I Ain't Worried -    \n",
       "2090                                       KICK BACK -    \n",
       "2839                                           Olsun -    \n",
       "2526                            Merhabalar - Akustik -    \n",
       "2088         Just the Two of Us (feat. Bill Withers) -    \n",
       "1156                                    Elephant Gun -    \n",
       "1859             I Really Want to Stay at Your House -    \n",
       "3108                                              Re -    \n",
       "4591                                           Yürek -    \n",
       "1128                                   Dünyaya Bedel -    \n",
       "1784               How to Focus to Change Your Brain -    \n",
       "1321                                       FightSong -    \n",
       "1120                                   Döndüm Durdum -    \n",
       "\n",
       "                  artistName  minPlayed  \\\n",
       "157             mor ve ötesi     193.29   \n",
       "4585           Glass Animals     145.78   \n",
       "4050              The Smiths     143.08   \n",
       "4579                  SIAMES     140.71   \n",
       "236                   SIAMES     132.73   \n",
       "4176              Widowspeak     128.91   \n",
       "268                 Maroon 5     127.95   \n",
       "1809             OneRepublic     125.73   \n",
       "2090           Kenshi Yonezu     122.05   \n",
       "2839             Pilli Bebek     119.97   \n",
       "2526                Emre Fel     119.44   \n",
       "2088  Grover Washington, Jr.     118.52   \n",
       "1156                  Beirut     116.55   \n",
       "1859             Rosa Walton     115.04   \n",
       "3108            mor ve ötesi     114.53   \n",
       "4591                   Duman     112.72   \n",
       "1128            mor ve ötesi     112.08   \n",
       "1784            Huberman Lab     111.76   \n",
       "1321                     Eve     111.05   \n",
       "1120            Anıl Piyancı     108.18   \n",
       "\n",
       "                                              song_auth  \n",
       "157                          Adamın Dibi - mor ve ötesi  \n",
       "4585                              Youth - Glass Animals  \n",
       "4050  There Is a Light That Never Goes Out - 2011 Re...  \n",
       "4579                        Young and Restless - SIAMES  \n",
       "236                            Always The Same - SIAMES  \n",
       "4176                             True Blue - Widowspeak  \n",
       "268                                  Animals - Maroon 5  \n",
       "1809                      I Ain't Worried - OneRepublic  \n",
       "2090                          KICK BACK - Kenshi Yonezu  \n",
       "2839                                Olsun - Pilli Bebek  \n",
       "2526                    Merhabalar - Akustik - Emre Fel  \n",
       "2088  Just the Two of Us (feat. Bill Withers) - Grov...  \n",
       "1156                              Elephant Gun - Beirut  \n",
       "1859  I Really Want to Stay at Your House - Rosa Walton  \n",
       "3108                                  Re - mor ve ötesi  \n",
       "4591                                      Yürek - Duman  \n",
       "1128                       Dünyaya Bedel - mor ve ötesi  \n",
       "1784   How to Focus to Change Your Brain - Huberman Lab  \n",
       "1321                                    FightSong - Eve  \n",
       "1120                       Döndüm Durdum - Anıl Piyancı  "
      ]
     },
     "execution_count": 20,
     "metadata": {},
     "output_type": "execute_result"
    }
   ],
   "source": [
    "toptwenty = msplayed.iloc[0:20]\n",
    "toptwenty[\"trackName\"] = toptwenty[\"trackName\"].apply(lambda x: x + \" - \")\n",
    "toptwenty[\"msPlayed\"] = toptwenty[\"msPlayed\"].apply(lambda x: x*(1.666667*(10**-5)))\n",
    "toptwenty[\"msPlayed\"] = toptwenty[\"msPlayed\"].apply(lambda x: round(x, 2))\n",
    "toptwenty.rename(columns={\"msPlayed\": \"minPlayed\"}, inplace=True)\n",
    "toptwenty[\"song_auth\"] = toptwenty[\"trackName\"] + toptwenty[\"artistName\"]\n",
    "toptwenty\n"
   ]
  },
  {
   "cell_type": "code",
   "execution_count": 21,
   "metadata": {},
   "outputs": [
    {
     "data": {
      "image/png": "[encoded data removed]",
      "text/plain": [
       "<Figure size 1080x540 with 1 Axes>"
      ]
     },
     "metadata": {
      "needs_background": "light"
     },
     "output_type": "display_data"
    }
   ],
   "source": [
    "plt.figure(figsize=(15, 7.5))\n",
    "sns.barplot(x=toptwenty[\"song_auth\"], y=toptwenty[\"minPlayed\"])\n",
    "plt.title(\"Top 20 songs\")\n",
    "plt.xlabel(\"Song\")\n",
    "plt.ylabel(\"Time listened (minute)\")\n",
    "plt.xticks(rotation=90)\n",
    "plt.show()"
   ]
  },
  {
   "cell_type": "code",
   "execution_count": 22,
   "metadata": {},
   "outputs": [],
   "source": [
    "ordered_artist = pd_sthistory.groupby([\"artistName\"],as_index=False)[\"msPlayed\"].sum()\n",
    "ordered_artist[\"msPlayed\"] = ordered_artist[\"msPlayed\"].apply(lambda x: x*(1.666667*(10**-5)))\n",
    "ordered_artist[\"msPlayed\"] = ordered_artist[\"msPlayed\"].apply(lambda x: round(x, 2))\n",
    "ordered_artist.rename(columns={\"msPlayed\": \"minPlayed\"}, inplace=True)\n",
    "ordered_artist = ordered_artist.sort_values(by=['minPlayed'], ascending=False)\n",
    "ordered_artist = ordered_artist.iloc[0:25]"
   ]
  },
  {
   "cell_type": "code",
   "execution_count": 23,
   "metadata": {},
   "outputs": [
    {
     "data": {
      "image/png": "[encoded data removed]",
      "text/plain": [
       "<Figure size 1080x540 with 1 Axes>"
      ]
     },
     "metadata": {
      "needs_background": "light"
     },
     "output_type": "display_data"
    }
   ],
   "source": [
    "plt.figure(figsize=(15, 7.5))\n",
    "sns.barplot(x=ordered_artist[\"artistName\"], y=ordered_artist[\"minPlayed\"])\n",
    "plt.title(\"Top 20 artists\")\n",
    "plt.xlabel(\"Artist\")\n",
    "plt.ylabel(\"Time listened (minute)\")\n",
    "plt.xticks(rotation=90)\n",
    "plt.show()"
   ]
  },
  {
   "cell_type": "code",
   "execution_count": 24,
   "metadata": {},
   "outputs": [],
   "source": [
    "#i will ad genre stats later"
   ]
  }
 ],
 "metadata": {
  "kernelspec": {
   "display_name": "base",
   "language": "python",
   "name": "python3"
  },
  "language_info": {
   "codemirror_mode": {
    "name": "ipython",
    "version": 3
   },
   "file_extension": ".py",
   "mimetype": "text/x-python",
   "name": "python",
   "nbconvert_exporter": "python",
   "pygments_lexer": "ipython3",
   "version": "3.9.12"
  },
  "orig_nbformat": 4
 },
 "nbformat": 4,
 "nbformat_minor": 2
}
